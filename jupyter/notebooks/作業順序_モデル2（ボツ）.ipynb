{
 "cells": [
  {
   "cell_type": "code",
   "execution_count": 1,
   "id": "c991309f",
   "metadata": {},
   "outputs": [],
   "source": [
    "from neo4j import GraphDatabase\n",
    "import pandas as pd"
   ]
  },
  {
   "cell_type": "markdown",
   "id": "ff5ca6d9",
   "metadata": {},
   "source": [
    "# 接続、初期化"
   ]
  },
  {
   "cell_type": "code",
   "execution_count": 2,
   "id": "3b9005e8",
   "metadata": {},
   "outputs": [],
   "source": [
    "uri = 'bolt://neo4j:7687'\n",
    "user = 'neo4j'\n",
    "password = 'neo4j'\n",
    "driver = GraphDatabase.driver(uri, auth=(user, password))"
   ]
  },
  {
   "cell_type": "code",
   "execution_count": 3,
   "id": "a665df0f",
   "metadata": {},
   "outputs": [],
   "source": [
    "def clear_db(tx):\n",
    "    '''\n",
    "    ノードと関係性を全て削除する\n",
    "    '''\n",
    "    tx.run('MATCH (n) DETACH DELETE n')\n",
    "\n",
    "def get_constrs(tx):\n",
    "    '''\n",
    "    制約名リストを取得する\n",
    "    '''\n",
    "    constrs = tx.run('CALL db.constraints')\n",
    "    constrs_name = []\n",
    "    for constr in constrs:\n",
    "        constrs_name.append(constr.value('name'))\n",
    "    return constrs_name\n",
    "    \n",
    "def drop_constrs(tx, constrs):\n",
    "    '''\n",
    "    制約を削除する\n",
    "    '''\n",
    "    if not isinstance(constrs, list):\n",
    "        constrs = [constrs]\n",
    "    for constr in constrs:\n",
    "        tx.run('DROP CONSTRAINT ' + constr)"
   ]
  },
  {
   "cell_type": "code",
   "execution_count": 4,
   "id": "3d750bf6",
   "metadata": {},
   "outputs": [],
   "source": [
    "# ノード削除\n",
    "with driver.session() as session:\n",
    "    session.write_transaction(clear_db)\n",
    "# 制約削除\n",
    "with driver.session() as session:\n",
    "    constrs = session.read_transaction(get_constrs)\n",
    "    session.write_transaction(drop_constrs, constrs)"
   ]
  },
  {
   "cell_type": "markdown",
   "id": "6e1eec3f",
   "metadata": {},
   "source": [
    "# 作業順序への適用"
   ]
  },
  {
   "cell_type": "markdown",
   "id": "93ffd66a",
   "metadata": {},
   "source": [
    "+ パターン毎の作業順序をグラフDB化\n",
    "+ 工程マスタ、作業マスタ、作業順序を兼ねられる？？\n",
    "    + 「ある工程の全作業」「ある作業が属する工程」など取得する関数を作ればOK\n",
    "    + 外部キー制約等は付けられないからダメ？？"
   ]
  },
  {
   "cell_type": "markdown",
   "id": "98ab51b5",
   "metadata": {},
   "source": [
    "## neo4jへのデータ登録"
   ]
  },
  {
   "cell_type": "code",
   "execution_count": 5,
   "id": "00f64c0d",
   "metadata": {},
   "outputs": [],
   "source": [
    "WORK = '作業'\n",
    "KOUTEI = '工程'\n",
    "PATTERN = 'パターン'\n",
    "COLNAME_ORDER_ID = '作業順序ID'\n",
    "COLNAME_PRETASK = '前作業'\n",
    "COLNAME_POSTTASK = '後作業'\n",
    "COLNAME_PRETASK_ORIGIN = '前作業原点'\n",
    "COLNAME_POSTTASK_ORIGIN = '後作業原点'\n",
    "COLNAME_OFFSET_TIME = '時間差'\n",
    "COLNAME_CONSTR_TYPE = '制約種類'"
   ]
  },
  {
   "cell_type": "code",
   "execution_count": 6,
   "id": "01ac72a3",
   "metadata": {},
   "outputs": [],
   "source": [
    "path_sagyou_master = './data/sagyou_master_demo.xlsx'\n",
    "path_sagyou_order = './data/sagyou_order_demo.xlsx'\n",
    "\n",
    "df_sagyou_master = pd.read_excel(path_sagyou_master)\n",
    "df_sagyou_order = pd.read_excel(path_sagyou_order)"
   ]
  },
  {
   "cell_type": "code",
   "execution_count": 7,
   "id": "292cfdac",
   "metadata": {},
   "outputs": [],
   "source": [
    "def add_unique_sagyou(tx):\n",
    "    '''\n",
    "    作業ノードの「作業」属性にUNIQUE制約付与\n",
    "    '''\n",
    "    tx.run('CREATE CONSTRAINT ON (w:Work) ASSERT w.work IS UNIQUE')\n",
    "\n",
    "# def add_unique_sagyou_order(tx):\n",
    "#     '''\n",
    "#     作業順序リレーションの「パターン」「作業順序ID」にUNIQUE制約付与\n",
    "#     （有料版でないと効かない？）\n",
    "#     '''\n",
    "#     tx.run('CREATE CONSTRAINT ON (o:ORDER) ASSERT (o.pattern, o.order_id) IS UNIQUE')\n",
    "\n",
    "def add_sagyou(tx, df):\n",
    "    '''\n",
    "    作業ノードの登録\n",
    "    各行につき1ノードとし、列「作業」「工程」を属性として追加\n",
    "    '''\n",
    "    for _, ds in df.iterrows():\n",
    "        tx.run(f'CREATE (:Work:{ds[KOUTEI]} {{work: $work}})',\n",
    "               work=ds[WORK])\n",
    "\n",
    "def add_sagyou_order(tx, df):\n",
    "    '''\n",
    "    作業順序リレーションを登録\n",
    "    各行につき1リレーションとし、各列（前作業、後作業以外）を属性として追加\n",
    "    '''\n",
    "    for _, ds in df.iterrows():\n",
    "        cypher = f'''\n",
    "            MATCH\n",
    "                (a:Work{{work:$pretask}}),(b:Work{{work:$posttask}})\n",
    "            CREATE\n",
    "                (a)-[:{encode_pattern(ds[PATTERN])}{{\n",
    "                    order_id: $order_id,\n",
    "                    pretask_origin: $pretask_origin,\n",
    "                    posttask_origin: $posttask_origin,\n",
    "                    offset_time: $offset_time,\n",
    "                    constr_type: $constr_type\n",
    "                }}]->(b);\n",
    "        '''\n",
    "        tx.run(\n",
    "            cypher,\n",
    "            pretask=ds[COLNAME_PRETASK],\n",
    "            posttask=ds[COLNAME_POSTTASK],\n",
    "            order_id=ds[COLNAME_ORDER_ID],\n",
    "            pretask_origin=ds[COLNAME_PRETASK_ORIGIN],\n",
    "            posttask_origin=ds[COLNAME_POSTTASK_ORIGIN],\n",
    "            offset_time=ds[COLNAME_POSTTASK_ORIGIN],\n",
    "            constr_type=ds[COLNAME_CONSTR_TYPE]\n",
    "        )\n",
    "\n",
    "def encode_pattern(pattern):\n",
    "    '''\n",
    "    パターン名をneo4j用のものに変換する\n",
    "    例：「A-1」→「A_1」\n",
    "    '''\n",
    "    return pattern.replace('-', '_')\n",
    "\n",
    "def decode_pattern(pattern):\n",
    "    '''\n",
    "    パターン名をneo4j用のものから変換する\n",
    "    例：「A_1」→「A-1」\n",
    "    '''\n",
    "    return pattern.replace('_', '-')"
   ]
  },
  {
   "cell_type": "code",
   "execution_count": 8,
   "id": "9351f78f",
   "metadata": {},
   "outputs": [],
   "source": [
    "# 制約追加\n",
    "with driver.session() as session:\n",
    "    session.write_transaction(add_unique_sagyou)\n",
    "#     session.write_transaction(add_unique_sagyou_order)"
   ]
  },
  {
   "cell_type": "code",
   "execution_count": 9,
   "id": "09d4e259",
   "metadata": {
    "scrolled": true
   },
   "outputs": [],
   "source": [
    "# ノード、リレーション追加\n",
    "with driver.session() as session:\n",
    "    session.write_transaction(add_sagyou, df_sagyou_master)\n",
    "    session.write_transaction(add_sagyou_order, df_sagyou_order)"
   ]
  },
  {
   "cell_type": "markdown",
   "id": "5c891d0b",
   "metadata": {},
   "source": [
    "→neo4jのGUIでパターンを絞っても、表示される関係性にフィルタがかからない"
   ]
  },
  {
   "cell_type": "code",
   "execution_count": null,
   "id": "715f0d3d",
   "metadata": {},
   "outputs": [],
   "source": []
  }
 ],
 "metadata": {
  "kernelspec": {
   "display_name": "Python 3",
   "language": "python",
   "name": "python3"
  },
  "language_info": {
   "codemirror_mode": {
    "name": "ipython",
    "version": 3
   },
   "file_extension": ".py",
   "mimetype": "text/x-python",
   "name": "python",
   "nbconvert_exporter": "python",
   "pygments_lexer": "ipython3",
   "version": "3.9.5"
  }
 },
 "nbformat": 4,
 "nbformat_minor": 5
}
