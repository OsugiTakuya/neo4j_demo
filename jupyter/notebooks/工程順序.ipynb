{
 "cells": [
  {
   "cell_type": "code",
   "execution_count": 1,
   "id": "c991309f",
   "metadata": {},
   "outputs": [],
   "source": [
    "from neo4j import GraphDatabase"
   ]
  },
  {
   "cell_type": "markdown",
   "id": "ff5ca6d9",
   "metadata": {},
   "source": [
    "# 接続、初期化"
   ]
  },
  {
   "cell_type": "code",
   "execution_count": 2,
   "id": "3b9005e8",
   "metadata": {},
   "outputs": [],
   "source": [
    "uri = 'bolt://neo4j:7687'\n",
    "user = 'neo4j'\n",
    "password = 'neo4j'\n",
    "driver = GraphDatabase.driver(uri, auth=(user, password))"
   ]
  },
  {
   "cell_type": "code",
   "execution_count": 3,
   "id": "a665df0f",
   "metadata": {},
   "outputs": [],
   "source": [
    "def clear_db(tx):\n",
    "    tx.run('MATCH (n) DETACH DELETE n')"
   ]
  },
  {
   "cell_type": "code",
   "execution_count": 4,
   "id": "3d750bf6",
   "metadata": {},
   "outputs": [],
   "source": [
    "with driver.session() as session:\n",
    "    session.write_transaction(clear_db)"
   ]
  },
  {
   "cell_type": "markdown",
   "id": "6e1eec3f",
   "metadata": {},
   "source": [
    "# 工程順序への適用"
   ]
  },
  {
   "cell_type": "markdown",
   "id": "93ffd66a",
   "metadata": {},
   "source": [
    "+ パターン毎の作業順序をグラフDB化\n",
    "+ 工程マスタ、作業マスタ、作業順序を兼ねられる？？\n",
    "    + 「ある工程の全作業」「ある作業が属する工程」など取得する関数を作ればOK\n",
    "    + 外部キー制約等は付けられないからダメ？？"
   ]
  },
  {
   "cell_type": "code",
   "execution_count": null,
   "id": "5635111d",
   "metadata": {},
   "outputs": [],
   "source": []
  },
  {
   "cell_type": "code",
   "execution_count": null,
   "id": "715f0d3d",
   "metadata": {},
   "outputs": [],
   "source": []
  }
 ],
 "metadata": {
  "kernelspec": {
   "display_name": "Python 3",
   "language": "python",
   "name": "python3"
  },
  "language_info": {
   "codemirror_mode": {
    "name": "ipython",
    "version": 3
   },
   "file_extension": ".py",
   "mimetype": "text/x-python",
   "name": "python",
   "nbconvert_exporter": "python",
   "pygments_lexer": "ipython3",
   "version": "3.9.5"
  }
 },
 "nbformat": 4,
 "nbformat_minor": 5
}
