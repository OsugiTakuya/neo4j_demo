{
 "cells": [
  {
   "cell_type": "code",
   "execution_count": 1,
   "id": "952f7d6d",
   "metadata": {},
   "outputs": [],
   "source": [
    "from neo4j import GraphDatabase"
   ]
  },
  {
   "cell_type": "markdown",
   "id": "c4b18e45",
   "metadata": {},
   "source": [
    "# 接続、初期化"
   ]
  },
  {
   "cell_type": "code",
   "execution_count": 2,
   "id": "86fd8822",
   "metadata": {},
   "outputs": [],
   "source": [
    "uri = 'bolt://neo4j:7687'\n",
    "user = 'neo4j'\n",
    "password = 'neo4j'\n",
    "driver = GraphDatabase.driver(uri, auth=(user, password))"
   ]
  },
  {
   "cell_type": "code",
   "execution_count": 3,
   "id": "fc9632ef",
   "metadata": {},
   "outputs": [],
   "source": [
    "def clear_db(tx):\n",
    "    tx.run('MATCH (n) DETACH DELETE n')"
   ]
  },
  {
   "cell_type": "code",
   "execution_count": 4,
   "id": "d661c360",
   "metadata": {},
   "outputs": [],
   "source": [
    "with driver.session() as session:\n",
    "    session.write_transaction(clear_db)"
   ]
  },
  {
   "cell_type": "markdown",
   "id": "9844efd2",
   "metadata": {},
   "source": [
    "# 追加"
   ]
  },
  {
   "cell_type": "code",
   "execution_count": 5,
   "id": "07d1c0cf",
   "metadata": {},
   "outputs": [],
   "source": [
    "def add_friend(tx, name, friend_name=None):\n",
    "    if not friend_name:\n",
    "        tx.run('CREATE (p:Person {name: $name}) RETURN p', name=name)\n",
    "    else:\n",
    "        tx.run(\n",
    "            'MATCH (p:Person {name: $name})'\n",
    "            'CREATE (p)-[:FRIEND]->(:Person {name: $friend_name})',\n",
    "            name=name, friend_name=friend_name)"
   ]
  },
  {
   "cell_type": "code",
   "execution_count": 6,
   "id": "45666ece",
   "metadata": {},
   "outputs": [],
   "source": [
    "def get_friend(tx, name):\n",
    "    friends = []\n",
    "    for record in tx.run('MATCH (p:Person {name: $name})-[:FRIEND]->(yourfriends)'\n",
    "                         'RETURN p,yourfriends', name=name):\n",
    "        friends.append(record)\n",
    "    return friends"
   ]
  },
  {
   "cell_type": "code",
   "execution_count": 7,
   "id": "d7e046a5",
   "metadata": {},
   "outputs": [],
   "source": [
    "with driver.session() as session:\n",
    "    session.write_transaction(add_friend, 'MasterU')\n",
    "    for f in ['Mark', 'Kent']:\n",
    "        session.write_transaction(add_friend, 'MasterU', f)"
   ]
  },
  {
   "cell_type": "code",
   "execution_count": 8,
   "id": "1a2675d9",
   "metadata": {},
   "outputs": [],
   "source": [
    "with driver.session() as session:\n",
    "    friends = session.read_transaction(get_friend, 'MasterU')"
   ]
  },
  {
   "cell_type": "code",
   "execution_count": 9,
   "id": "fb92ba38",
   "metadata": {},
   "outputs": [
    {
     "data": {
      "text/plain": [
       "[<Record p=<Node id=0 labels=frozenset({'Person'}) properties={'name': 'MasterU'}> yourfriends=<Node id=1 labels=frozenset({'Person'}) properties={'name': 'Mark'}>>,\n",
       " <Record p=<Node id=0 labels=frozenset({'Person'}) properties={'name': 'MasterU'}> yourfriends=<Node id=2 labels=frozenset({'Person'}) properties={'name': 'Kent'}>>]"
      ]
     },
     "execution_count": 9,
     "metadata": {},
     "output_type": "execute_result"
    }
   ],
   "source": [
    "friends"
   ]
  },
  {
   "cell_type": "code",
   "execution_count": 10,
   "id": "a2f20e1f",
   "metadata": {},
   "outputs": [
    {
     "data": {
      "text/plain": [
       "neo4j.data.Record"
      ]
     },
     "execution_count": 10,
     "metadata": {},
     "output_type": "execute_result"
    }
   ],
   "source": [
    "type(friends[0])"
   ]
  },
  {
   "cell_type": "code",
   "execution_count": 11,
   "id": "2cab629b",
   "metadata": {},
   "outputs": [
    {
     "data": {
      "text/plain": [
       "<Node id=0 labels=frozenset({'Person'}) properties={'name': 'MasterU'}>"
      ]
     },
     "execution_count": 11,
     "metadata": {},
     "output_type": "execute_result"
    }
   ],
   "source": [
    "friends[0]['p']"
   ]
  },
  {
   "cell_type": "code",
   "execution_count": 12,
   "id": "21aa97c1",
   "metadata": {},
   "outputs": [
    {
     "data": {
      "text/plain": [
       "<Node id=1 labels=frozenset({'Person'}) properties={'name': 'Mark'}>"
      ]
     },
     "execution_count": 12,
     "metadata": {},
     "output_type": "execute_result"
    }
   ],
   "source": [
    "friends[0]['yourfriends']"
   ]
  },
  {
   "cell_type": "code",
   "execution_count": null,
   "id": "321988ea",
   "metadata": {},
   "outputs": [],
   "source": []
  },
  {
   "cell_type": "code",
   "execution_count": null,
   "id": "b3466f8b",
   "metadata": {},
   "outputs": [],
   "source": []
  },
  {
   "cell_type": "code",
   "execution_count": null,
   "id": "a5e68e48",
   "metadata": {},
   "outputs": [],
   "source": []
  }
 ],
 "metadata": {
  "kernelspec": {
   "display_name": "Python 3",
   "language": "python",
   "name": "python3"
  },
  "language_info": {
   "codemirror_mode": {
    "name": "ipython",
    "version": 3
   },
   "file_extension": ".py",
   "mimetype": "text/x-python",
   "name": "python",
   "nbconvert_exporter": "python",
   "pygments_lexer": "ipython3",
   "version": "3.9.5"
  }
 },
 "nbformat": 4,
 "nbformat_minor": 5
}
