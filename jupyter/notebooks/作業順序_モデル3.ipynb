{
 "cells": [
  {
   "cell_type": "code",
   "execution_count": 1,
   "id": "c991309f",
   "metadata": {},
   "outputs": [],
   "source": [
    "from neo4j import GraphDatabase\n",
    "import pandas as pd"
   ]
  },
  {
   "cell_type": "markdown",
   "id": "ff5ca6d9",
   "metadata": {},
   "source": [
    "# 接続、初期化"
   ]
  },
  {
   "cell_type": "code",
   "execution_count": 2,
   "id": "3b9005e8",
   "metadata": {},
   "outputs": [],
   "source": [
    "uri = 'bolt://neo4j:7687'\n",
    "user = 'neo4j'\n",
    "password = 'neo4j'\n",
    "driver = GraphDatabase.driver(uri, auth=(user, password))"
   ]
  },
  {
   "cell_type": "code",
   "execution_count": 3,
   "id": "a665df0f",
   "metadata": {},
   "outputs": [],
   "source": [
    "def clear_db(tx):\n",
    "    '''\n",
    "    ノードと関係性を全て削除する\n",
    "    '''\n",
    "    tx.run('MATCH (n) DETACH DELETE n')\n",
    "\n",
    "def get_constrs(tx):\n",
    "    '''\n",
    "    制約名リストを取得する\n",
    "    '''\n",
    "    constrs = tx.run('CALL db.constraints')\n",
    "    constrs_name = []\n",
    "    for constr in constrs:\n",
    "        constrs_name.append(constr.value('name'))\n",
    "    return constrs_name\n",
    "    \n",
    "def drop_constrs(tx, constrs):\n",
    "    '''\n",
    "    制約を削除する\n",
    "    '''\n",
    "    if not isinstance(constrs, list):\n",
    "        constrs = [constrs]\n",
    "    for constr in constrs:\n",
    "        tx.run('DROP CONSTRAINT ' + constr)"
   ]
  },
  {
   "cell_type": "code",
   "execution_count": 4,
   "id": "3d750bf6",
   "metadata": {},
   "outputs": [],
   "source": [
    "# ノード削除\n",
    "with driver.session() as session:\n",
    "    session.write_transaction(clear_db)\n",
    "# 制約削除\n",
    "with driver.session() as session:\n",
    "    constrs = session.read_transaction(get_constrs)\n",
    "    session.write_transaction(drop_constrs, constrs)"
   ]
  },
  {
   "cell_type": "markdown",
   "id": "6e1eec3f",
   "metadata": {},
   "source": [
    "# 作業順序への適用"
   ]
  },
  {
   "cell_type": "markdown",
   "id": "93ffd66a",
   "metadata": {},
   "source": [
    "+ パターン毎の作業順序をグラフDB化\n",
    "+ 工程マスタ、作業マスタ、作業順序を兼ねられる？？\n",
    "    + 「ある工程の全作業」「ある作業が属する工程」など取得する関数を作ればOK\n",
    "    + 外部キー制約等は付けられないからダメ？？"
   ]
  },
  {
   "cell_type": "markdown",
   "id": "5a2c9fba",
   "metadata": {},
   "source": [
    "## neo4jへのデータ登録"
   ]
  },
  {
   "cell_type": "code",
   "execution_count": 5,
   "id": "ce48b4fe",
   "metadata": {},
   "outputs": [],
   "source": [
    "WORK = '作業'\n",
    "KOUTEI = '工程'\n",
    "PATTERN = 'パターン'\n",
    "COLNAME_ORDER_ID = '作業順序ID'\n",
    "COLNAME_PRETASK = '前作業'\n",
    "COLNAME_POSTTASK = '後作業'\n",
    "COLNAME_PRETASK_ORIGIN = '前作業原点'\n",
    "COLNAME_POSTTASK_ORIGIN = '後作業原点'\n",
    "COLNAME_OFFSET_TIME = '時間差'\n",
    "COLNAME_CONSTR_TYPE = '制約種類'"
   ]
  },
  {
   "cell_type": "code",
   "execution_count": 6,
   "id": "bb51d9f7",
   "metadata": {},
   "outputs": [],
   "source": [
    "path_sagyou_master = './data/sagyou_master_demo.xlsx'\n",
    "path_sagyou_order = './data/sagyou_order_demo.xlsx'\n",
    "\n",
    "df_sagyou_master = pd.read_excel(path_sagyou_master)\n",
    "df_sagyou_order = pd.read_excel(path_sagyou_order)"
   ]
  },
  {
   "cell_type": "code",
   "execution_count": 7,
   "id": "b5b8eba7",
   "metadata": {},
   "outputs": [],
   "source": [
    "def add_unique_sagyou(tx):\n",
    "    '''\n",
    "    作業ノードの「作業」属性にUNIQUE制約付与\n",
    "    '''\n",
    "    tx.run('CREATE CONSTRAINT ON (w:Work) ASSERT w.work IS UNIQUE')\n",
    "\n",
    "def add_unique_sagyou_order(tx):\n",
    "    '''\n",
    "    作業順序リレーションの「パターン」「作業順序ID」にUNIQUE制約付与\n",
    "    （有料版でないと効かない？）\n",
    "    '''\n",
    "    tx.run('CREATE CONSTRAINT ON (o:ORDER) ASSERT (o.pattern, o.order_id) IS UNIQUE')\n",
    "\n",
    "def add_sagyou(tx, df):\n",
    "    '''\n",
    "    作業ノードの登録\n",
    "    各行につき1ノードとし、列「作業」を属性として追加\n",
    "    '''\n",
    "    for _, ds in df.iterrows():\n",
    "        tx.run(f'CREATE (:Work:{ds[KOUTEI]} {{work: $work}})', work=ds[WORK])\n",
    "\n",
    "def add_sagyou_order(tx, df):\n",
    "    '''\n",
    "    作業順序リレーションを登録\n",
    "    各行につき1リレーションとし、各列（前作業、後作業以外）を属性として追加\n",
    "    '''\n",
    "    for _, ds in df.iterrows():\n",
    "        cypher = '''\n",
    "            MATCH\n",
    "                (a:Work{work:$pretask}),(b:Work{work:$posttask})\n",
    "            CREATE\n",
    "                (a)-[:ORDER{\n",
    "                    pattern: $pattern,\n",
    "                    order_id: $order_id,\n",
    "                    pretask_origin: $pretask_origin,\n",
    "                    posttask_origin: $posttask_origin,\n",
    "                    offset_time: $offset_time,\n",
    "                    constr_type: $constr_type\n",
    "                }]->(b);\n",
    "        '''\n",
    "        tx.run(\n",
    "            cypher,\n",
    "            pretask=ds[COLNAME_PRETASK],\n",
    "            posttask=ds[COLNAME_POSTTASK],\n",
    "            pattern=ds[PATTERN],\n",
    "            order_id=ds[COLNAME_ORDER_ID],\n",
    "            pretask_origin=ds[COLNAME_PRETASK_ORIGIN],\n",
    "            posttask_origin=ds[COLNAME_POSTTASK_ORIGIN],\n",
    "            offset_time=ds[COLNAME_OFFSET_TIME],\n",
    "            constr_type=ds[COLNAME_CONSTR_TYPE]\n",
    "        )"
   ]
  },
  {
   "cell_type": "code",
   "execution_count": 8,
   "id": "ca03989f",
   "metadata": {},
   "outputs": [],
   "source": [
    "# 制約追加\n",
    "with driver.session() as session:\n",
    "    session.write_transaction(add_unique_sagyou)\n",
    "    session.write_transaction(add_unique_sagyou_order)"
   ]
  },
  {
   "cell_type": "code",
   "execution_count": 9,
   "id": "7b1eede1",
   "metadata": {
    "scrolled": true
   },
   "outputs": [],
   "source": [
    "# ノード、リレーション追加\n",
    "with driver.session() as session:\n",
    "    session.write_transaction(add_sagyou, df_sagyou_master)\n",
    "    session.write_transaction(add_sagyou_order, df_sagyou_order)"
   ]
  },
  {
   "cell_type": "markdown",
   "id": "3ddd8859",
   "metadata": {},
   "source": [
    "## データの取得"
   ]
  },
  {
   "cell_type": "code",
   "execution_count": 10,
   "id": "70ae9a31",
   "metadata": {},
   "outputs": [],
   "source": [
    "# 作業の取得\n",
    "def get_work_node_in_koutei(tx, koutei):\n",
    "    '''\n",
    "    ある工程に存在する:Workノードを取得する\n",
    "    \n",
    "    koutei : str or list\n",
    "    '''\n",
    "    node_list = []\n",
    "    # kouteiがリストなら、各要素に対してこの関数を適用\n",
    "    if isinstance(koutei, list):\n",
    "        for k in koutei:\n",
    "            node_list += get_work_node_in_koutei(tx, k)\n",
    "    else:\n",
    "        # データを取得\n",
    "        records = tx.run(f'MATCH (w:Work:{koutei}) RETURN w;',\n",
    "                         koutei=koutei)\n",
    "        for record in records:\n",
    "            node_list.append(record)\n",
    "    return node_list\n",
    "\n",
    "\n",
    "def get_work_in_koutei(tx, koutei):\n",
    "    '''\n",
    "    ある工程に存在する作業名を取得する\n",
    "    \n",
    "    koutei : str or list\n",
    "    '''\n",
    "    node_list = get_work_node_in_koutei(tx, koutei)\n",
    "    work_list = [node['w']['work'] for node in node_list]\n",
    "    return work_list"
   ]
  },
  {
   "cell_type": "code",
   "execution_count": 11,
   "id": "8c589ae2",
   "metadata": {},
   "outputs": [],
   "source": [
    "# 作業順序の取得\n",
    "def get_work_order_node(tx, koutei=None, pattern=None):\n",
    "    '''\n",
    "    ある工程、パターンに存在する:Workノードと:ORDERリレーションを取得する\n",
    "    \n",
    "    koutei,pattern : str,list or optional\n",
    "        str,listで指定する。Noneの場合は指定しない\n",
    "    '''\n",
    "    node_list = []\n",
    "    # patternがリストなら、各要素に対してこの関数を適用\n",
    "    if isinstance(pattern, list):\n",
    "        for p in pattern:\n",
    "            node_list += get_work_order_node(tx, koutei=koutei, pattern=p)\n",
    "    else:\n",
    "        # 属性値の選択\n",
    "        if koutei is None:\n",
    "            where_koutei = ''\n",
    "        else:\n",
    "            koutei = koutei if isinstance(koutei, list) else [koutei]\n",
    "            where_koutei = 'WHERE '\n",
    "            for k in koutei:\n",
    "                where_koutei += f'(w1:{k} AND w2:{k}) OR '\n",
    "            where_koutei = where_koutei[:-4]\n",
    "            \n",
    "        select_pattern = '' if pattern is None else '{pattern: $pattern}'\n",
    "        kwargs_select = {} if pattern is None else {'pattern': pattern}\n",
    "\n",
    "        # データを取得\n",
    "        cypher = f'''\n",
    "            MATCH\n",
    "                (w1:Work)-[o:ORDER{select_pattern}]->(w2:Work)\n",
    "            {where_koutei}\n",
    "            RETURN\n",
    "                w1,o,w2\n",
    "        '''\n",
    "        records = tx.run(cypher, **kwargs_select)\n",
    "        for record in records:\n",
    "            node_list.append(record)\n",
    "    \n",
    "    return node_list\n",
    "\n",
    "\n",
    "def get_work_order_df(tx, koutei=None, pattern=None):\n",
    "    '''\n",
    "    ある工程、パターンに存在する作業順序情報を取得する\n",
    "    \n",
    "    koutei,pattern : str,list or optional\n",
    "        str,listで指定する。Noneの場合は指定しない\n",
    "    '''\n",
    "    node_list = get_work_order_node(tx, koutei=koutei, pattern=pattern)\n",
    "    dict_order = [\n",
    "        {\n",
    "            PATTERN: node['o']['pattern'],\n",
    "            COLNAME_ORDER_ID: node['o']['order_id'],\n",
    "            COLNAME_PRETASK: node['o'].nodes[0]['work'],\n",
    "            COLNAME_POSTTASK: node['o'].nodes[1]['work'],\n",
    "            COLNAME_PRETASK_ORIGIN: node['o']['pretask_origin'],\n",
    "            COLNAME_POSTTASK_ORIGIN: node['o']['posttask_origin'],\n",
    "            COLNAME_OFFSET_TIME: node['o']['offset_time'],\n",
    "            COLNAME_CONSTR_TYPE: node['o']['constr_type'],\n",
    "        }\n",
    "        for node in node_list\n",
    "    ]\n",
    "    \n",
    "    df_order = pd.DataFrame(dict_order)\n",
    "    return df_order"
   ]
  },
  {
   "cell_type": "code",
   "execution_count": 12,
   "id": "1b8ba12d",
   "metadata": {},
   "outputs": [],
   "source": [
    "# 作業名取得\n",
    "with driver.session() as session:\n",
    "    work_list = session.read_transaction(get_work_in_koutei, ['工程A', '工程B'])"
   ]
  },
  {
   "cell_type": "code",
   "execution_count": 13,
   "id": "eb462439",
   "metadata": {},
   "outputs": [
    {
     "data": {
      "text/plain": [
       "['作業3', '作業4', '作業5', '作業1', '作業2', '作業6', '作業7', '作業8']"
      ]
     },
     "execution_count": 13,
     "metadata": {},
     "output_type": "execute_result"
    }
   ],
   "source": [
    "work_list"
   ]
  },
  {
   "cell_type": "code",
   "execution_count": 14,
   "id": "d82a74ad",
   "metadata": {},
   "outputs": [],
   "source": [
    "# 作業順序取得\n",
    "with driver.session() as session:\n",
    "    df_order_get = session.read_transaction(\n",
    "        get_work_order_df, koutei=['工程A', '工程B'], pattern='A-1')"
   ]
  },
  {
   "cell_type": "code",
   "execution_count": 15,
   "id": "97b55ce1",
   "metadata": {
    "scrolled": false
   },
   "outputs": [
    {
     "data": {
      "text/html": [
       "<div>\n",
       "<style scoped>\n",
       "    .dataframe tbody tr th:only-of-type {\n",
       "        vertical-align: middle;\n",
       "    }\n",
       "\n",
       "    .dataframe tbody tr th {\n",
       "        vertical-align: top;\n",
       "    }\n",
       "\n",
       "    .dataframe thead th {\n",
       "        text-align: right;\n",
       "    }\n",
       "</style>\n",
       "<table border=\"1\" class=\"dataframe\">\n",
       "  <thead>\n",
       "    <tr style=\"text-align: right;\">\n",
       "      <th></th>\n",
       "      <th>パターン</th>\n",
       "      <th>作業順序ID</th>\n",
       "      <th>前作業</th>\n",
       "      <th>後作業</th>\n",
       "      <th>前作業原点</th>\n",
       "      <th>後作業原点</th>\n",
       "      <th>時間差</th>\n",
       "      <th>制約種類</th>\n",
       "    </tr>\n",
       "  </thead>\n",
       "  <tbody>\n",
       "    <tr>\n",
       "      <th>0</th>\n",
       "      <td>A-1</td>\n",
       "      <td>2</td>\n",
       "      <td>作業1</td>\n",
       "      <td>作業3</td>\n",
       "      <td>終了時刻</td>\n",
       "      <td>開始時刻</td>\n",
       "      <td>0</td>\n",
       "      <td>ぴったり</td>\n",
       "    </tr>\n",
       "    <tr>\n",
       "      <th>1</th>\n",
       "      <td>A-1</td>\n",
       "      <td>4</td>\n",
       "      <td>作業3</td>\n",
       "      <td>作業5</td>\n",
       "      <td>終了時刻</td>\n",
       "      <td>開始時刻</td>\n",
       "      <td>0</td>\n",
       "      <td>いつでも</td>\n",
       "    </tr>\n",
       "    <tr>\n",
       "      <th>2</th>\n",
       "      <td>A-1</td>\n",
       "      <td>3</td>\n",
       "      <td>作業2</td>\n",
       "      <td>作業5</td>\n",
       "      <td>終了時刻</td>\n",
       "      <td>開始時刻</td>\n",
       "      <td>10</td>\n",
       "      <td>いつでも</td>\n",
       "    </tr>\n",
       "    <tr>\n",
       "      <th>3</th>\n",
       "      <td>A-1</td>\n",
       "      <td>6</td>\n",
       "      <td>作業6</td>\n",
       "      <td>作業7</td>\n",
       "      <td>終了時刻</td>\n",
       "      <td>開始時刻</td>\n",
       "      <td>30</td>\n",
       "      <td>ぴったり</td>\n",
       "    </tr>\n",
       "    <tr>\n",
       "      <th>4</th>\n",
       "      <td>A-1</td>\n",
       "      <td>1</td>\n",
       "      <td>作業1</td>\n",
       "      <td>作業2</td>\n",
       "      <td>終了時刻</td>\n",
       "      <td>開始時刻</td>\n",
       "      <td>0</td>\n",
       "      <td>いつでも</td>\n",
       "    </tr>\n",
       "  </tbody>\n",
       "</table>\n",
       "</div>"
      ],
      "text/plain": [
       "  パターン  作業順序ID  前作業  後作業 前作業原点 後作業原点  時間差  制約種類\n",
       "0  A-1       2  作業1  作業3  終了時刻  開始時刻    0  ぴったり\n",
       "1  A-1       4  作業3  作業5  終了時刻  開始時刻    0  いつでも\n",
       "2  A-1       3  作業2  作業5  終了時刻  開始時刻   10  いつでも\n",
       "3  A-1       6  作業6  作業7  終了時刻  開始時刻   30  ぴったり\n",
       "4  A-1       1  作業1  作業2  終了時刻  開始時刻    0  いつでも"
      ]
     },
     "execution_count": 15,
     "metadata": {},
     "output_type": "execute_result"
    }
   ],
   "source": [
    "df_order_get"
   ]
  },
  {
   "cell_type": "markdown",
   "id": "ae96e7fb",
   "metadata": {},
   "source": [
    "Browser\n",
    "\n",
    "+ あるパターンの順序\n",
    "    + MATCH (w1:Work)-[r:ORDER{pattern:\"A-1\"}]->(w2:Work) RETURN w1,r,w2;\n",
    "+ あるパターン、ある工程の順序\n",
    "    + MATCH\n",
    "        (w1:Work:工程A)-[o:ORDER{pattern:\"A-1\"}]->(w2:Work:工程A)\n",
    "    RETURN\n",
    "        w1,o,w2"
   ]
  },
  {
   "cell_type": "code",
   "execution_count": null,
   "id": "78f0338b",
   "metadata": {},
   "outputs": [],
   "source": []
  },
  {
   "cell_type": "code",
   "execution_count": null,
   "id": "715f0d3d",
   "metadata": {},
   "outputs": [],
   "source": []
  }
 ],
 "metadata": {
  "kernelspec": {
   "display_name": "Python 3",
   "language": "python",
   "name": "python3"
  },
  "language_info": {
   "codemirror_mode": {
    "name": "ipython",
    "version": 3
   },
   "file_extension": ".py",
   "mimetype": "text/x-python",
   "name": "python",
   "nbconvert_exporter": "python",
   "pygments_lexer": "ipython3",
   "version": "3.9.5"
  }
 },
 "nbformat": 4,
 "nbformat_minor": 5
}
